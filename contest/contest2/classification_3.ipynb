{
 "cells": [
  {
   "cell_type": "code",
   "execution_count": 4,
   "metadata": {},
   "outputs": [],
   "source": [
    "import random\n",
    "import json\n",
    "import numpy as np\n",
    "import pandas as pd\n",
    "from sklearn.linear_model import LogisticRegression\n",
    "from sklearn.svm import LinearSVC"
   ]
  },
  {
   "cell_type": "code",
   "execution_count": 5,
   "metadata": {},
   "outputs": [
    {
     "name": "stdout",
     "output_type": "stream",
     "text": [
      "(1000, 4)\n",
      "(1000,)\n"
     ]
    }
   ],
   "source": [
    "lines = None\n",
    "with open(\"./restaurants_train.txt\", \"r\") as file:\n",
    "    lines = file.readlines()\n",
    "\n",
    "X = np.zeros(shape=(1000, 4))\n",
    "y = np.zeros(shape=(1000,))\n",
    "\n",
    "def preprocess_input(winner: str, r1: str, r2: str, d1: str, d2: str):\n",
    "    if winner == \"0.5\":\n",
    "        p_winner = random.randint(0, 1)\n",
    "    else:\n",
    "        p_winner = int(winner)\n",
    "    p_d1, p_d2 = map(float, [d1, d2])\n",
    "    if r1 == \"-1\":\n",
    "        p_r1 = (1 - p_d1)\n",
    "    else:\n",
    "        p_r1 = float(r1) / 10\n",
    "    if r2 == \"-1\":\n",
    "        p_r2 = (1 - p_d2)\n",
    "    else:\n",
    "        p_r2 = float(r2) / 10\n",
    "    return [p_winner, p_r1, p_r2, p_d1, p_d2]\n",
    "\n",
    "for i, line in enumerate(lines):\n",
    "    fields = line.split()\n",
    "    res = preprocess_input(*fields)\n",
    "    if res is None:\n",
    "        X[i][0] = -1\n",
    "        continue\n",
    "    winner, r1, r2, d1, d2 = res\n",
    "    X[i] = np.array([r1, r2, d1, d2])\n",
    "    y[i] = winner\n",
    "\n",
    "X_filtered = X[X[:, 0] != -1]\n",
    "y_filtered = y[X[:, 0] != -1]\n",
    "print(X_filtered.shape)\n",
    "print(y_filtered.shape)"
   ]
  },
  {
   "cell_type": "code",
   "execution_count": 7,
   "metadata": {},
   "outputs": [
    {
     "name": "stdout",
     "output_type": "stream",
     "text": [
      "[[-0.16830213  0.54638286  0.10845776 -0.33963157]]\n",
      "[-0.37073644]\n",
      "[[[-0.1683021331590511, 0.5463828556237218, 0.1084577602434275, -0.3396315721517699]], [-0.37073643570092796], \"l2\", 1.0, [0.0, 1.0]]\n"
     ]
    },
    {
     "name": "stderr",
     "output_type": "stream",
     "text": [
      "/home/vscode/.cache/pypoetry/virtualenvs/ml-mipt-HmEAT_rS-py3.8/lib/python3.8/site-packages/sklearn/svm/_classes.py:32: FutureWarning: The default value of `dual` will change from `True` to `'auto'` in 1.5. Set the value of `dual` explicitly to suppress the warning.\n",
      "  warnings.warn(\n"
     ]
    }
   ],
   "source": [
    "# model = LogisticRegression(penalty=\"l2\")\n",
    "model = LinearSVC()\n",
    "model.fit(X_filtered, y_filtered)\n",
    "print(model.coef_)\n",
    "print(model.intercept_)\n",
    "\n",
    "encoded = json.dumps((model.coef_.tolist(), model.intercept_.tolist(), model.penalty, model.C, model.classes_.tolist()))\n",
    "print(encoded)"
   ]
  }
 ],
 "metadata": {
  "kernelspec": {
   "display_name": "ml-mipt-HmEAT_rS-py3.8",
   "language": "python",
   "name": "python3"
  },
  "language_info": {
   "codemirror_mode": {
    "name": "ipython",
    "version": 3
   },
   "file_extension": ".py",
   "mimetype": "text/x-python",
   "name": "python",
   "nbconvert_exporter": "python",
   "pygments_lexer": "ipython3",
   "version": "3.8.19"
  }
 },
 "nbformat": 4,
 "nbformat_minor": 2
}
